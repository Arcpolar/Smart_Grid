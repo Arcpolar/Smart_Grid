{
 "cells": [
  {
   "cell_type": "code",
   "execution_count": 2,
   "id": "2b8b059d-0388-4d8f-8599-16089de7f9e3",
   "metadata": {
    "tags": []
   },
   "outputs": [
    {
     "name": "stdout",
     "output_type": "stream",
     "text": [
      "sagemaker.config INFO - Not applying SDK defaults from location: /etc/xdg/sagemaker/config.yaml\n",
      "sagemaker.config INFO - Not applying SDK defaults from location: /root/.config/sagemaker/config.yaml\n",
      "sagemaker.config INFO - Not applying SDK defaults from location: /etc/xdg/sagemaker/config.yaml\n",
      "sagemaker.config INFO - Not applying SDK defaults from location: /root/.config/sagemaker/config.yaml\n",
      "sagemaker.config INFO - Not applying SDK defaults from location: /etc/xdg/sagemaker/config.yaml\n",
      "sagemaker.config INFO - Not applying SDK defaults from location: /root/.config/sagemaker/config.yaml\n"
     ]
    }
   ],
   "source": [
    "import sagemaker\n",
    "import boto3\n",
    "\n",
    "sess = sagemaker.Session()\n",
    "bucket = sess.default_bucket()\n",
    "role = sagemaker.get_execution_role()\n",
    "region = boto3.Session().region_name\n",
    "\n",
    "sm = boto3.Session().client(service_name=\"sagemaker\", region_name=region)"
   ]
  },
  {
   "cell_type": "code",
   "execution_count": 3,
   "id": "3b17476a-e358-4951-97fa-cba79f4a68f3",
   "metadata": {
    "tags": []
   },
   "outputs": [
    {
     "name": "stdout",
     "output_type": "stream",
     "text": [
      "Collecting awswrangler\n",
      "  Using cached awswrangler-3.5.2-py3-none-any.whl.metadata (23 kB)\n",
      "Collecting pyqt5\n",
      "  Using cached PyQt5-5.15.10-cp37-abi3-manylinux_2_17_x86_64.whl.metadata (2.1 kB)\n",
      "Collecting pyqtwebengine\n",
      "  Using cached PyQtWebEngine-5.15.6-cp37-abi3-manylinux1_x86_64.whl (230 kB)\n",
      "Requirement already satisfied: bokeh in /opt/conda/lib/python3.10/site-packages (3.3.2)\n",
      "Collecting bokeh\n",
      "  Using cached bokeh-3.3.4-py3-none-any.whl.metadata (12 kB)\n",
      "Requirement already satisfied: ipython in /opt/conda/lib/python3.10/site-packages (8.18.1)\n",
      "Collecting ipython\n",
      "  Using cached ipython-8.21.0-py3-none-any.whl.metadata (5.9 kB)\n",
      "Requirement already satisfied: pylint in /opt/conda/lib/python3.10/site-packages (3.0.2)\n",
      "Collecting pylint\n",
      "  Using cached pylint-3.0.3-py3-none-any.whl.metadata (12 kB)\n",
      "Requirement already satisfied: boto3<2.0.0,>=1.20.32 in /opt/conda/lib/python3.10/site-packages (from awswrangler) (1.33.9)\n",
      "Requirement already satisfied: botocore<2.0.0,>=1.23.32 in /opt/conda/lib/python3.10/site-packages (from awswrangler) (1.33.9)\n",
      "Requirement already satisfied: numpy<2.0,>=1.18 in /opt/conda/lib/python3.10/site-packages (from awswrangler) (1.26.2)\n",
      "Requirement already satisfied: packaging<24.0,>=21.1 in /opt/conda/lib/python3.10/site-packages (from awswrangler) (21.3)\n",
      "Requirement already satisfied: pandas<3.0.0,>=1.2.0 in /opt/conda/lib/python3.10/site-packages (from awswrangler) (2.1.3)\n",
      "Requirement already satisfied: pyarrow>=7.0.0 in /opt/conda/lib/python3.10/site-packages (from awswrangler) (14.0.1)\n",
      "Collecting typing-extensions<5.0.0,>=4.4.0 (from awswrangler)\n",
      "  Using cached typing_extensions-4.9.0-py3-none-any.whl.metadata (3.0 kB)\n",
      "Collecting PyQt5-sip<13,>=12.13 (from pyqt5)\n",
      "  Using cached PyQt5_sip-12.13.0-cp310-cp310-manylinux_2_5_x86_64.manylinux1_x86_64.whl.metadata (504 bytes)\n",
      "Collecting PyQt5-Qt5>=5.15.2 (from pyqt5)\n",
      "  Using cached PyQt5_Qt5-5.15.2-py3-none-manylinux2014_x86_64.whl (59.9 MB)\n",
      "Collecting PyQtWebEngine-Qt5>=5.15.0 (from pyqtwebengine)\n",
      "  Using cached PyQtWebEngine_Qt5-5.15.2-py3-none-manylinux2014_x86_64.whl (67.5 MB)\n",
      "Requirement already satisfied: Jinja2>=2.9 in /opt/conda/lib/python3.10/site-packages (from bokeh) (3.1.2)\n",
      "Requirement already satisfied: contourpy>=1 in /opt/conda/lib/python3.10/site-packages (from bokeh) (1.2.0)\n",
      "Requirement already satisfied: pillow>=7.1.0 in /opt/conda/lib/python3.10/site-packages (from bokeh) (10.1.0)\n",
      "Requirement already satisfied: PyYAML>=3.10 in /opt/conda/lib/python3.10/site-packages/PyYAML-6.0-py3.10-linux-x86_64.egg (from bokeh) (6.0)\n",
      "Requirement already satisfied: tornado>=5.1 in /opt/conda/lib/python3.10/site-packages (from bokeh) (6.4)\n",
      "Requirement already satisfied: xyzservices>=2021.09.1 in /opt/conda/lib/python3.10/site-packages (from bokeh) (2023.10.1)\n",
      "Requirement already satisfied: decorator in /opt/conda/lib/python3.10/site-packages (from ipython) (5.1.1)\n",
      "Requirement already satisfied: jedi>=0.16 in /opt/conda/lib/python3.10/site-packages (from ipython) (0.18.1)\n",
      "Requirement already satisfied: matplotlib-inline in /opt/conda/lib/python3.10/site-packages (from ipython) (0.1.6)\n",
      "Requirement already satisfied: prompt-toolkit<3.1.0,>=3.0.41 in /opt/conda/lib/python3.10/site-packages (from ipython) (3.0.41)\n",
      "Requirement already satisfied: pygments>=2.4.0 in /opt/conda/lib/python3.10/site-packages (from ipython) (2.17.2)\n",
      "Requirement already satisfied: stack-data in /opt/conda/lib/python3.10/site-packages (from ipython) (0.6.3)\n",
      "Requirement already satisfied: traitlets>=5 in /opt/conda/lib/python3.10/site-packages (from ipython) (5.14.0)\n",
      "Requirement already satisfied: exceptiongroup in /opt/conda/lib/python3.10/site-packages (from ipython) (1.2.0)\n",
      "Requirement already satisfied: pexpect>4.3 in /opt/conda/lib/python3.10/site-packages (from ipython) (4.8.0)\n",
      "Requirement already satisfied: platformdirs>=2.2.0 in /opt/conda/lib/python3.10/site-packages (from pylint) (2.5.2)\n",
      "Requirement already satisfied: astroid<=3.1.0-dev0,>=3.0.1 in /opt/conda/lib/python3.10/site-packages (from pylint) (3.0.1)\n",
      "Requirement already satisfied: isort!=5.13.0,<6,>=4.2.5 in /opt/conda/lib/python3.10/site-packages (from pylint) (5.9.3)\n",
      "Requirement already satisfied: mccabe<0.8,>=0.6 in /opt/conda/lib/python3.10/site-packages (from pylint) (0.7.0)\n",
      "Requirement already satisfied: tomlkit>=0.10.1 in /opt/conda/lib/python3.10/site-packages (from pylint) (0.11.1)\n",
      "Requirement already satisfied: dill>=0.2 in /opt/conda/lib/python3.10/site-packages (from pylint) (0.3.7)\n",
      "Requirement already satisfied: tomli>=1.1.0 in /opt/conda/lib/python3.10/site-packages (from pylint) (2.0.1)\n",
      "Requirement already satisfied: jmespath<2.0.0,>=0.7.1 in /opt/conda/lib/python3.10/site-packages (from boto3<2.0.0,>=1.20.32->awswrangler) (0.10.0)\n",
      "Requirement already satisfied: s3transfer<0.9.0,>=0.8.2 in /opt/conda/lib/python3.10/site-packages (from boto3<2.0.0,>=1.20.32->awswrangler) (0.8.2)\n",
      "Requirement already satisfied: python-dateutil<3.0.0,>=2.1 in /opt/conda/lib/python3.10/site-packages (from botocore<2.0.0,>=1.23.32->awswrangler) (2.8.2)\n",
      "Collecting urllib3<2.1,>=1.25.4 (from botocore<2.0.0,>=1.23.32->awswrangler)\n",
      "  Using cached urllib3-2.0.7-py3-none-any.whl.metadata (6.6 kB)\n",
      "Requirement already satisfied: parso<0.9.0,>=0.8.0 in /opt/conda/lib/python3.10/site-packages (from jedi>=0.16->ipython) (0.8.3)\n",
      "Requirement already satisfied: MarkupSafe>=2.0 in /opt/conda/lib/python3.10/site-packages (from Jinja2>=2.9->bokeh) (2.1.3)\n",
      "Requirement already satisfied: pyparsing!=3.0.5,>=2.0.2 in /opt/conda/lib/python3.10/site-packages (from packaging<24.0,>=21.1->awswrangler) (3.0.9)\n",
      "Requirement already satisfied: pytz>=2020.1 in /opt/conda/lib/python3.10/site-packages (from pandas<3.0.0,>=1.2.0->awswrangler) (2022.1)\n",
      "Requirement already satisfied: tzdata>=2022.1 in /opt/conda/lib/python3.10/site-packages (from pandas<3.0.0,>=1.2.0->awswrangler) (2023.3)\n",
      "Requirement already satisfied: ptyprocess>=0.5 in /opt/conda/lib/python3.10/site-packages (from pexpect>4.3->ipython) (0.7.0)\n",
      "Requirement already satisfied: wcwidth in /opt/conda/lib/python3.10/site-packages (from prompt-toolkit<3.1.0,>=3.0.41->ipython) (0.2.5)\n",
      "Requirement already satisfied: executing>=1.2.0 in /opt/conda/lib/python3.10/site-packages (from stack-data->ipython) (2.0.1)\n",
      "Requirement already satisfied: asttokens>=2.1.0 in /opt/conda/lib/python3.10/site-packages (from stack-data->ipython) (2.4.1)\n",
      "Requirement already satisfied: pure-eval in /opt/conda/lib/python3.10/site-packages (from stack-data->ipython) (0.2.2)\n",
      "Requirement already satisfied: six>=1.12.0 in /opt/conda/lib/python3.10/site-packages (from asttokens>=2.1.0->stack-data->ipython) (1.16.0)\n",
      "Using cached awswrangler-3.5.2-py3-none-any.whl (402 kB)\n",
      "Using cached PyQt5-5.15.10-cp37-abi3-manylinux_2_17_x86_64.whl (8.2 MB)\n",
      "Using cached bokeh-3.3.4-py3-none-any.whl (6.8 MB)\n",
      "Using cached ipython-8.21.0-py3-none-any.whl (810 kB)\n",
      "Using cached pylint-3.0.3-py3-none-any.whl (510 kB)\n",
      "Using cached PyQt5_sip-12.13.0-cp310-cp310-manylinux_2_5_x86_64.manylinux1_x86_64.whl (338 kB)\n",
      "Using cached typing_extensions-4.9.0-py3-none-any.whl (32 kB)\n",
      "Using cached urllib3-2.0.7-py3-none-any.whl (124 kB)\n",
      "Installing collected packages: PyQtWebEngine-Qt5, PyQt5-Qt5, urllib3, typing-extensions, PyQt5-sip, pyqt5, pyqtwebengine, pylint, ipython, bokeh, awswrangler\n",
      "  Attempting uninstall: urllib3\n",
      "    Found existing installation: urllib3 2.1.0\n",
      "    Uninstalling urllib3-2.1.0:\n",
      "      Successfully uninstalled urllib3-2.1.0\n",
      "  Attempting uninstall: typing-extensions\n",
      "    Found existing installation: typing_extensions 4.3.0\n",
      "    Uninstalling typing_extensions-4.3.0:\n",
      "      Successfully uninstalled typing_extensions-4.3.0\n",
      "  Attempting uninstall: PyQt5-sip\n",
      "    Found existing installation: PyQt5-sip 12.11.0\n",
      "    Uninstalling PyQt5-sip-12.11.0:\n",
      "\u001b[33m      WARNING: Cannot remove entries from nonexistent file /opt/conda/lib/python3.10/site-packages/easy-install.pth\u001b[0m\u001b[33m\n",
      "\u001b[0m      Successfully uninstalled PyQt5-sip-12.11.0\n",
      "  Attempting uninstall: pylint\n",
      "    Found existing installation: pylint 3.0.2\n",
      "    Uninstalling pylint-3.0.2:\n",
      "      Successfully uninstalled pylint-3.0.2\n",
      "  Attempting uninstall: ipython\n",
      "    Found existing installation: ipython 8.18.1\n",
      "    Uninstalling ipython-8.18.1:\n",
      "      Successfully uninstalled ipython-8.18.1\n",
      "  Attempting uninstall: bokeh\n",
      "    Found existing installation: bokeh 3.3.2\n",
      "    Uninstalling bokeh-3.3.2:\n",
      "      Successfully uninstalled bokeh-3.3.2\n",
      "\u001b[31mERROR: pip's dependency resolver does not currently take into account all the packages that are installed. This behaviour is the source of the following dependency conflicts.\n",
      "distributed 2022.7.0 requires tornado<6.2,>=6.0.3, but you have tornado 6.4 which is incompatible.\n",
      "jupyterlab 3.4.4 requires jupyter-server~=1.16, but you have jupyter-server 2.12.1 which is incompatible.\n",
      "notebook 6.5.6 requires jupyter-client<8,>=5.3.4, but you have jupyter-client 8.6.0 which is incompatible.\n",
      "notebook 6.5.6 requires pyzmq<25,>=17, but you have pyzmq 25.1.2 which is incompatible.\n",
      "panel 0.13.1 requires bokeh<2.5.0,>=2.4.0, but you have bokeh 3.3.4 which is incompatible.\n",
      "sagemaker 2.199.0 requires urllib3<1.27, but you have urllib3 2.0.7 which is incompatible.\n",
      "sagemaker-datawrangler 0.4.3 requires sagemaker-data-insights==0.4.0, but you have sagemaker-data-insights 0.3.3 which is incompatible.\n",
      "spyder 5.3.3 requires ipython<8.0.0,>=7.31.1, but you have ipython 8.21.0 which is incompatible.\n",
      "spyder 5.3.3 requires pylint<3.0,>=2.5.0, but you have pylint 3.0.3 which is incompatible.\n",
      "spyder-kernels 2.3.3 requires ipython<8,>=7.31.1; python_version >= \"3\", but you have ipython 8.21.0 which is incompatible.\n",
      "spyder-kernels 2.3.3 requires jupyter-client<8,>=7.3.4; python_version >= \"3\", but you have jupyter-client 8.6.0 which is incompatible.\u001b[0m\u001b[31m\n",
      "\u001b[0mSuccessfully installed PyQt5-Qt5-5.15.2 PyQt5-sip-12.13.0 PyQtWebEngine-Qt5-5.15.2 awswrangler-3.5.2 bokeh-3.3.4 ipython-8.21.0 pylint-3.0.3 pyqt5-5.15.10 pyqtwebengine-5.15.6 typing-extensions-4.9.0 urllib3-2.0.7\n",
      "\u001b[33mWARNING: Running pip as the 'root' user can result in broken permissions and conflicting behaviour with the system package manager. It is recommended to use a virtual environment instead: https://pip.pypa.io/warnings/venv\u001b[0m\u001b[33m\n",
      "\u001b[0m\n",
      "\u001b[1m[\u001b[0m\u001b[34;49mnotice\u001b[0m\u001b[1;39;49m]\u001b[0m\u001b[39;49m A new release of pip is available: \u001b[0m\u001b[31;49m23.3.1\u001b[0m\u001b[39;49m -> \u001b[0m\u001b[32;49m23.3.2\u001b[0m\n",
      "\u001b[1m[\u001b[0m\u001b[34;49mnotice\u001b[0m\u001b[1;39;49m]\u001b[0m\u001b[39;49m To update, run: \u001b[0m\u001b[32;49mpip install --upgrade pip\u001b[0m\n",
      "Collecting sagemaker-data-insights==0.4.0\n",
      "  Using cached sagemaker_data_insights-0.4.0-py3-none-any.whl (99 kB)\n",
      "Requirement already satisfied: numpy>=1.21.6 in /opt/conda/lib/python3.10/site-packages (from sagemaker-data-insights==0.4.0) (1.26.2)\n",
      "Requirement already satisfied: psutil>=5.6.7 in /opt/conda/lib/python3.10/site-packages (from sagemaker-data-insights==0.4.0) (5.9.0)\n",
      "Requirement already satisfied: pandas>=1.1.4 in /opt/conda/lib/python3.10/site-packages (from sagemaker-data-insights==0.4.0) (2.1.3)\n",
      "Requirement already satisfied: scikit-learn>=0.22.1 in /opt/conda/lib/python3.10/site-packages (from sagemaker-data-insights==0.4.0) (1.3.2)\n",
      "Requirement already satisfied: scipy>=1.4.1 in /opt/conda/lib/python3.10/site-packages (from sagemaker-data-insights==0.4.0) (1.11.4)\n",
      "Requirement already satisfied: sagemaker-scikit-learn-extension==2.5.0 in /opt/conda/lib/python3.10/site-packages (from sagemaker-data-insights==0.4.0) (2.5.0)\n",
      "Requirement already satisfied: python-dateutil>=2.8.2 in /opt/conda/lib/python3.10/site-packages (from pandas>=1.1.4->sagemaker-data-insights==0.4.0) (2.8.2)\n",
      "Requirement already satisfied: pytz>=2020.1 in /opt/conda/lib/python3.10/site-packages (from pandas>=1.1.4->sagemaker-data-insights==0.4.0) (2022.1)\n",
      "Requirement already satisfied: tzdata>=2022.1 in /opt/conda/lib/python3.10/site-packages (from pandas>=1.1.4->sagemaker-data-insights==0.4.0) (2023.3)\n",
      "Requirement already satisfied: joblib>=1.1.1 in /opt/conda/lib/python3.10/site-packages (from scikit-learn>=0.22.1->sagemaker-data-insights==0.4.0) (1.3.2)\n",
      "Requirement already satisfied: threadpoolctl>=2.0.0 in /opt/conda/lib/python3.10/site-packages (from scikit-learn>=0.22.1->sagemaker-data-insights==0.4.0) (2.2.0)\n",
      "Requirement already satisfied: six>=1.5 in /opt/conda/lib/python3.10/site-packages (from python-dateutil>=2.8.2->pandas>=1.1.4->sagemaker-data-insights==0.4.0) (1.16.0)\n",
      "Installing collected packages: sagemaker-data-insights\n",
      "  Attempting uninstall: sagemaker-data-insights\n",
      "    Found existing installation: sagemaker-data-insights 0.3.3\n",
      "    Uninstalling sagemaker-data-insights-0.3.3:\n",
      "      Successfully uninstalled sagemaker-data-insights-0.3.3\n",
      "Successfully installed sagemaker-data-insights-0.4.0\n",
      "\u001b[33mWARNING: Running pip as the 'root' user can result in broken permissions and conflicting behaviour with the system package manager. It is recommended to use a virtual environment instead: https://pip.pypa.io/warnings/venv\u001b[0m\u001b[33m\n",
      "\u001b[0m\n",
      "\u001b[1m[\u001b[0m\u001b[34;49mnotice\u001b[0m\u001b[1;39;49m]\u001b[0m\u001b[39;49m A new release of pip is available: \u001b[0m\u001b[31;49m23.3.1\u001b[0m\u001b[39;49m -> \u001b[0m\u001b[32;49m23.3.2\u001b[0m\n",
      "\u001b[1m[\u001b[0m\u001b[34;49mnotice\u001b[0m\u001b[1;39;49m]\u001b[0m\u001b[39;49m To update, run: \u001b[0m\u001b[32;49mpip install --upgrade pip\u001b[0m\n"
     ]
    }
   ],
   "source": [
    "!pip install -U awswrangler pyqt5 pyqtwebengine bokeh ipython pylint\n",
    "!pip install sagemaker-data-insights==0.4.0\n",
    "import awswrangler as wr"
   ]
  },
  {
   "cell_type": "code",
   "execution_count": 6,
   "id": "38cc5520-2897-4012-bfcf-fc36bb31cee4",
   "metadata": {
    "tags": []
   },
   "outputs": [],
   "source": [
    "import pandas as pd"
   ]
  },
  {
   "cell_type": "code",
   "execution_count": 8,
   "id": "23b1d004-06a6-46a8-9a3d-5da9c8a3dea6",
   "metadata": {
    "tags": []
   },
   "outputs": [],
   "source": [
    "def train_filter(partitions):\n",
    "    return (int(partitions[\"year\"]) == 2012) and (int(partitions[\"month\"]) <= 4)\n",
    "\n",
    "def val_filter(partitions):\n",
    "    return (int(partitions[\"year\"]) == 2012) and (int(partitions[\"month\"]) <= 5) and (int(partitions[\"month\"]) > 4)\n"
   ]
  },
  {
   "cell_type": "code",
   "execution_count": 10,
   "id": "fd182aa5-7b65-4022-9040-4a8415665db5",
   "metadata": {
    "tags": []
   },
   "outputs": [
    {
     "name": "stderr",
     "output_type": "stream",
     "text": [
      "/opt/conda/lib/python3.10/site-packages/awswrangler/_distributed.py:104: FutureWarning: promote has been superseded by mode='default'.\n",
      "  return cls.dispatch_func(func)(*args, **kw)\n"
     ]
    },
    {
     "data": {
      "text/plain": [
       "(2904, 7)"
      ]
     },
     "execution_count": 10,
     "metadata": {},
     "output_type": "execute_result"
    }
   ],
   "source": [
    "path = \"s3://{}/meterdataset.parquet/\".format(bucket)\n",
    "df_parquet_train = wr.s3.read_parquet(\n",
    "    path, \n",
    "    #columns=[\"artists\", \"track_name\", \"popularity\"], \n",
    "    partition_filter=train_filter, \n",
    "    dataset=True\n",
    ")\n",
    "df_parquet_train.shape"
   ]
  },
  {
   "cell_type": "code",
   "execution_count": 11,
   "id": "23fd92c3-7eba-44d9-bb50-6cf3c4ac5f88",
   "metadata": {
    "tags": []
   },
   "outputs": [
    {
     "name": "stderr",
     "output_type": "stream",
     "text": [
      "/opt/conda/lib/python3.10/site-packages/awswrangler/_distributed.py:104: FutureWarning: promote has been superseded by mode='default'.\n",
      "  return cls.dispatch_func(func)(*args, **kw)\n"
     ]
    },
    {
     "data": {
      "text/plain": [
       "(744, 7)"
      ]
     },
     "execution_count": 11,
     "metadata": {},
     "output_type": "execute_result"
    }
   ],
   "source": [
    "path = \"s3://{}/meterdataset.parquet/\".format(bucket)\n",
    "df_parquet_val = wr.s3.read_parquet(\n",
    "    path, \n",
    "    #columns=[\"artists\", \"track_name\", \"popularity\"], \n",
    "    partition_filter=val_filter, \n",
    "    dataset=True\n",
    ")\n",
    "df_parquet_val.shape"
   ]
  },
  {
   "cell_type": "code",
   "execution_count": 14,
   "id": "14efe99c-43fb-4fae-a778-3bd9f81f2216",
   "metadata": {
    "tags": []
   },
   "outputs": [
    {
     "data": {
      "text/html": [
       "<div>\n",
       "<style scoped>\n",
       "    .dataframe tbody tr th:only-of-type {\n",
       "        vertical-align: middle;\n",
       "    }\n",
       "\n",
       "    .dataframe tbody tr th {\n",
       "        vertical-align: top;\n",
       "    }\n",
       "\n",
       "    .dataframe thead th {\n",
       "        text-align: right;\n",
       "    }\n",
       "</style>\n",
       "<table border=\"1\" class=\"dataframe\">\n",
       "  <thead>\n",
       "    <tr style=\"text-align: right;\">\n",
       "      <th></th>\n",
       "      <th>kWh</th>\n",
       "      <th>weekday</th>\n",
       "      <th>hour</th>\n",
       "      <th>temperature</th>\n",
       "      <th>Holiday</th>\n",
       "    </tr>\n",
       "    <tr>\n",
       "      <th>timestamp</th>\n",
       "      <th></th>\n",
       "      <th></th>\n",
       "      <th></th>\n",
       "      <th></th>\n",
       "      <th></th>\n",
       "    </tr>\n",
       "  </thead>\n",
       "  <tbody>\n",
       "    <tr>\n",
       "      <th>2012-01-01 00:00:00</th>\n",
       "      <td>0.230723</td>\n",
       "      <td>6</td>\n",
       "      <td>0.0</td>\n",
       "      <td>12.12</td>\n",
       "      <td>-1.0</td>\n",
       "    </tr>\n",
       "    <tr>\n",
       "      <th>2012-01-01 01:00:00</th>\n",
       "      <td>0.268496</td>\n",
       "      <td>6</td>\n",
       "      <td>1.0</td>\n",
       "      <td>12.59</td>\n",
       "      <td>-1.0</td>\n",
       "    </tr>\n",
       "    <tr>\n",
       "      <th>2012-01-01 02:00:00</th>\n",
       "      <td>0.228618</td>\n",
       "      <td>6</td>\n",
       "      <td>2.0</td>\n",
       "      <td>12.45</td>\n",
       "      <td>-1.0</td>\n",
       "    </tr>\n",
       "    <tr>\n",
       "      <th>2012-01-01 03:00:00</th>\n",
       "      <td>0.191603</td>\n",
       "      <td>6</td>\n",
       "      <td>3.0</td>\n",
       "      <td>12.03</td>\n",
       "      <td>-1.0</td>\n",
       "    </tr>\n",
       "    <tr>\n",
       "      <th>2012-01-01 04:00:00</th>\n",
       "      <td>0.144564</td>\n",
       "      <td>6</td>\n",
       "      <td>4.0</td>\n",
       "      <td>12.04</td>\n",
       "      <td>-1.0</td>\n",
       "    </tr>\n",
       "    <tr>\n",
       "      <th>...</th>\n",
       "      <td>...</td>\n",
       "      <td>...</td>\n",
       "      <td>...</td>\n",
       "      <td>...</td>\n",
       "      <td>...</td>\n",
       "    </tr>\n",
       "    <tr>\n",
       "      <th>2012-04-30 19:00:00</th>\n",
       "      <td>0.275060</td>\n",
       "      <td>0</td>\n",
       "      <td>19.0</td>\n",
       "      <td>14.27</td>\n",
       "      <td>-1.0</td>\n",
       "    </tr>\n",
       "    <tr>\n",
       "      <th>2012-04-30 20:00:00</th>\n",
       "      <td>0.301409</td>\n",
       "      <td>0</td>\n",
       "      <td>20.0</td>\n",
       "      <td>13.44</td>\n",
       "      <td>-1.0</td>\n",
       "    </tr>\n",
       "    <tr>\n",
       "      <th>2012-04-30 21:00:00</th>\n",
       "      <td>0.286507</td>\n",
       "      <td>0</td>\n",
       "      <td>21.0</td>\n",
       "      <td>12.55</td>\n",
       "      <td>-1.0</td>\n",
       "    </tr>\n",
       "    <tr>\n",
       "      <th>2012-04-30 22:00:00</th>\n",
       "      <td>0.247830</td>\n",
       "      <td>0</td>\n",
       "      <td>22.0</td>\n",
       "      <td>12.49</td>\n",
       "      <td>-1.0</td>\n",
       "    </tr>\n",
       "    <tr>\n",
       "      <th>2012-04-30 23:00:00</th>\n",
       "      <td>0.175495</td>\n",
       "      <td>0</td>\n",
       "      <td>23.0</td>\n",
       "      <td>12.54</td>\n",
       "      <td>-1.0</td>\n",
       "    </tr>\n",
       "  </tbody>\n",
       "</table>\n",
       "<p>2904 rows × 5 columns</p>\n",
       "</div>"
      ],
      "text/plain": [
       "                          kWh  weekday  hour  temperature  Holiday\n",
       "timestamp                                                         \n",
       "2012-01-01 00:00:00  0.230723        6   0.0        12.12     -1.0\n",
       "2012-01-01 01:00:00  0.268496        6   1.0        12.59     -1.0\n",
       "2012-01-01 02:00:00  0.228618        6   2.0        12.45     -1.0\n",
       "2012-01-01 03:00:00  0.191603        6   3.0        12.03     -1.0\n",
       "2012-01-01 04:00:00  0.144564        6   4.0        12.04     -1.0\n",
       "...                       ...      ...   ...          ...      ...\n",
       "2012-04-30 19:00:00  0.275060        0  19.0        14.27     -1.0\n",
       "2012-04-30 20:00:00  0.301409        0  20.0        13.44     -1.0\n",
       "2012-04-30 21:00:00  0.286507        0  21.0        12.55     -1.0\n",
       "2012-04-30 22:00:00  0.247830        0  22.0        12.49     -1.0\n",
       "2012-04-30 23:00:00  0.175495        0  23.0        12.54     -1.0\n",
       "\n",
       "[2904 rows x 5 columns]"
      ]
     },
     "execution_count": 14,
     "metadata": {},
     "output_type": "execute_result"
    }
   ],
   "source": [
    "df_parquet_train = df_parquet_train.drop(columns=['year','month'])\n",
    "df_parquet_val = df_parquet_val.drop(columns=['year','month'])\n",
    "df_parquet_train"
   ]
  },
  {
   "cell_type": "code",
   "execution_count": 15,
   "id": "f1405fc0-a70a-4c7c-a74e-8377f0bb84fc",
   "metadata": {
    "tags": []
   },
   "outputs": [],
   "source": [
    "train_string = \"housepow_train.parquet\"\n",
    "val_string = \"housepow_val.parquet\"\n",
    "df_parquet_train.to_parquet(train_string)\n",
    "df_parquet_val.to_parquet(val_string)"
   ]
  },
  {
   "cell_type": "code",
   "execution_count": 13,
   "id": "fca02b4a-e1bf-4187-8ceb-e100bd1646fc",
   "metadata": {
    "tags": []
   },
   "outputs": [],
   "source": [
    "prefix = \"sagemaker/DEMO-xgboost-parquet\"\n",
    "use_amt = True"
   ]
  },
  {
   "cell_type": "code",
   "execution_count": 17,
   "id": "bce27721-8dc8-4174-8e0e-c1d69ae2524f",
   "metadata": {
    "tags": []
   },
   "outputs": [
    {
     "name": "stdout",
     "output_type": "stream",
     "text": [
      "CPU times: user 24.9 ms, sys: 4.61 ms, total: 29.5 ms\n",
      "Wall time: 277 ms\n"
     ]
    },
    {
     "data": {
      "text/plain": [
       "'s3://sagemaker-us-east-1-645257835735/sagemaker/DEMO-xgboost-parquet/validation/housepow_val.parquet'"
      ]
     },
     "execution_count": 17,
     "metadata": {},
     "output_type": "execute_result"
    }
   ],
   "source": [
    "%%time\n",
    "sess.upload_data(\n",
    "    train_string, bucket=bucket, key_prefix=prefix + \"/\" + \"training\"\n",
    ")\n",
    "\n",
    "sess.upload_data(\n",
    "    val_string, bucket=bucket, key_prefix=prefix + \"/\" + \"validation\"\n",
    ")"
   ]
  },
  {
   "cell_type": "code",
   "execution_count": 18,
   "id": "5205d0a6-0fc3-4bf2-983a-2e9c39611380",
   "metadata": {
    "tags": []
   },
   "outputs": [],
   "source": [
    "training_image = sagemaker.image_uris.retrieve(\"xgboost\", region, \"1.0-1\")"
   ]
  },
  {
   "cell_type": "markdown",
   "id": "336981fe-72fa-46f3-8828-9a84459ba378",
   "metadata": {},
   "source": [
    "#### Construct a SageMaker generic estimator using the SageMaker XGBoost container"
   ]
  },
  {
   "cell_type": "code",
   "execution_count": 36,
   "id": "5f1f532f-0e8c-4645-95ed-07a0937a010f",
   "metadata": {
    "tags": []
   },
   "outputs": [],
   "source": [
    "dataset_uri_prefix = \"s3://\" + bucket + \"/\" + prefix + \"/training/\"\n",
    "dataset_uri_prefix_val = \"s3://\" + bucket + \"/\" + prefix + \"/validation/\"\n",
    "training_output_path = \"s3://\" + bucket + \"/\" + prefix + \"/training_output\""
   ]
  },
  {
   "cell_type": "code",
   "execution_count": 37,
   "id": "15ba98db-9503-4f3c-a77d-5d6e6c98fc15",
   "metadata": {
    "tags": []
   },
   "outputs": [],
   "source": [
    "from sagemaker.estimator import Estimator\n",
    "\n",
    "training_model = Estimator(\n",
    "    training_image,\n",
    "    role,\n",
    "    instance_count=1,\n",
    "    instance_type=\"ml.m5.xlarge\",\n",
    "    volume_size=5,\n",
    "    max_run=3600,\n",
    "    input_mode=\"File\",\n",
    "    output_path=training_output_path,\n",
    "    sagemaker_session=sess,\n",
    ")"
   ]
  },
  {
   "cell_type": "markdown",
   "id": "133eb23c-ead8-4efc-b2f6-bb4247c4b460",
   "metadata": {},
   "source": [
    "#### Set hyperparameters"
   ]
  },
  {
   "cell_type": "code",
   "execution_count": 38,
   "id": "d814c029-fc16-4bcc-8a57-b01a41a72214",
   "metadata": {
    "tags": []
   },
   "outputs": [],
   "source": [
    "training_model.set_hyperparameters(objective=\"reg:linear\", num_round=50)"
   ]
  },
  {
   "cell_type": "markdown",
   "id": "0196d2b3-b2da-4316-b56e-636eaca82e18",
   "metadata": {},
   "source": [
    "#### Specify training dataset \n",
    "Specify the training dataset created in the [Build Training Dataset](#Build-Training-Dataset) section."
   ]
  },
  {
   "cell_type": "code",
   "execution_count": 39,
   "id": "c1fa528c-35c0-49e3-a0cd-3c1cde5c3b13",
   "metadata": {
    "tags": []
   },
   "outputs": [],
   "source": [
    "train_data = sagemaker.inputs.TrainingInput(\n",
    "    dataset_uri_prefix,\n",
    "    distribution=\"FullyReplicated\",\n",
    "    content_type=\"application/x-parquet\",\n",
    "    s3_data_type=\"S3Prefix\",\n",
    ")\n",
    "\n",
    "validation_data = sagemaker.inputs.TrainingInput(\n",
    "    dataset_uri_prefix_val,\n",
    "    distribution=\"FullyReplicated\",\n",
    "    content_type=\"application/x-parquet\",\n",
    "    s3_data_type=\"S3Prefix\",\n",
    ")\n",
    "\n",
    "data_channels = {\"train\": train_data, 'validation': validation_data}"
   ]
  },
  {
   "cell_type": "markdown",
   "id": "1af9123b-73ed-4341-a4f1-5a2fa788695f",
   "metadata": {},
   "source": [
    "#### Start training"
   ]
  },
  {
   "cell_type": "code",
   "execution_count": 40,
   "id": "5af3ba52-f20f-4f7b-b53f-3467e5c6d1d9",
   "metadata": {
    "tags": []
   },
   "outputs": [
    {
     "name": "stderr",
     "output_type": "stream",
     "text": [
      "INFO:sagemaker:Creating training-job with name: sagemaker-xgboost-2024-02-02-03-34-21-238\n"
     ]
    },
    {
     "name": "stdout",
     "output_type": "stream",
     "text": [
      "2024-02-02 03:34:21 Starting - Starting the training job...\n",
      "2024-02-02 03:34:36 Starting - Preparing the instances for training.........\n",
      "2024-02-02 03:35:59 Downloading - Downloading input data...\n",
      "2024-02-02 03:36:34 Downloading - Downloading the training image...\n",
      "2024-02-02 03:37:15 Training - Training image download completed. Training in progress.\n",
      "2024-02-02 03:37:15 Uploading - Uploading generated training model\u001b[34m[2024-02-02 03:37:06.666 ip-10-0-227-93.ec2.internal:7 INFO utils.py:27] RULE_JOB_STOP_SIGNAL_FILENAME: None\u001b[0m\n",
      "\u001b[34mINFO:sagemaker-containers:Imported framework sagemaker_xgboost_container.training\u001b[0m\n",
      "\u001b[34mINFO:sagemaker-containers:Failed to parse hyperparameter objective value reg:linear to Json.\u001b[0m\n",
      "\u001b[34mReturning the value itself\u001b[0m\n",
      "\u001b[34mINFO:sagemaker-containers:No GPUs detected (normal if no gpus installed)\u001b[0m\n",
      "\u001b[34mINFO:sagemaker_xgboost_container.training:Running XGBoost Sagemaker in algorithm mode\u001b[0m\n",
      "\u001b[34mINFO:root:Single node training.\u001b[0m\n",
      "\u001b[34m[2024-02-02 03:37:06.722 ip-10-0-227-93.ec2.internal:7 INFO json_config.py:91] Creating hook from json_config at /opt/ml/input/config/debughookconfig.json.\u001b[0m\n",
      "\u001b[34m[2024-02-02 03:37:06.723 ip-10-0-227-93.ec2.internal:7 INFO hook.py:201] tensorboard_dir has not been set for the hook. SMDebug will not be exporting tensorboard summaries.\u001b[0m\n",
      "\u001b[34m[2024-02-02 03:37:06.723 ip-10-0-227-93.ec2.internal:7 INFO profiler_config_parser.py:102] User has disabled profiler.\u001b[0m\n",
      "\u001b[34m[2024-02-02 03:37:06.724 ip-10-0-227-93.ec2.internal:7 INFO hook.py:255] Saving to /opt/ml/output/tensors\u001b[0m\n",
      "\u001b[34m[2024-02-02 03:37:06.724 ip-10-0-227-93.ec2.internal:7 INFO state_store.py:77] The checkpoint config file /opt/ml/input/config/checkpointconfig.json does not exist.\u001b[0m\n",
      "\u001b[34mINFO:root:Debug hook created from config\u001b[0m\n",
      "\u001b[34mINFO:root:Train matrix has 2904 rows\u001b[0m\n",
      "\u001b[34mINFO:root:Validation matrix has 744 rows\u001b[0m\n",
      "\u001b[34m[03:37:06] WARNING: /workspace/src/objective/regression_obj.cu:167: reg:linear is now deprecated in favor of reg:squarederror.\u001b[0m\n",
      "\u001b[34m[03:37:06] WARNING: /workspace/src/learner.cc:328: \u001b[0m\n",
      "\u001b[34mParameters: { num_round } might not be used.\n",
      "  This may not be accurate due to some parameters are only used in language bindings but\n",
      "  passed down to XGBoost core.  Or some parameters are not used but slip through this\n",
      "  verification. Please open an issue if you find above cases.\u001b[0m\n",
      "\u001b[34m[0]#011train-rmse:0.18470#011validation-rmse:0.23367\u001b[0m\n",
      "\u001b[34m[2024-02-02 03:37:06.864 ip-10-0-227-93.ec2.internal:7 INFO hook.py:423] Monitoring the collections: metrics\u001b[0m\n",
      "\u001b[34m[2024-02-02 03:37:06.867 ip-10-0-227-93.ec2.internal:7 INFO hook.py:486] Hook is writing from the hook with pid: 7\u001b[0m\n",
      "\u001b[34m[1]#011train-rmse:0.13150#011validation-rmse:0.17636\u001b[0m\n",
      "\u001b[34m[2]#011train-rmse:0.09464#011validation-rmse:0.13627\u001b[0m\n",
      "\u001b[34m[3]#011train-rmse:0.06943#011validation-rmse:0.10921\u001b[0m\n",
      "\u001b[34m[4]#011train-rmse:0.05247#011validation-rmse:0.08951\u001b[0m\n",
      "\u001b[34m[5]#011train-rmse:0.04143#011validation-rmse:0.07583\u001b[0m\n",
      "\u001b[34m[6]#011train-rmse:0.03445#011validation-rmse:0.06758\u001b[0m\n",
      "\u001b[34m[7]#011train-rmse:0.03035#011validation-rmse:0.06068\u001b[0m\n",
      "\u001b[34m[8]#011train-rmse:0.02788#011validation-rmse:0.05686\u001b[0m\n",
      "\u001b[34m[9]#011train-rmse:0.02651#011validation-rmse:0.05389\u001b[0m\n",
      "\u001b[34m[10]#011train-rmse:0.02566#011validation-rmse:0.05163\u001b[0m\n",
      "\u001b[34m[11]#011train-rmse:0.02512#011validation-rmse:0.05017\u001b[0m\n",
      "\u001b[34m[12]#011train-rmse:0.02480#011validation-rmse:0.04915\u001b[0m\n",
      "\u001b[34m[13]#011train-rmse:0.02458#011validation-rmse:0.04846\u001b[0m\n",
      "\u001b[34m[14]#011train-rmse:0.02407#011validation-rmse:0.04758\u001b[0m\n",
      "\u001b[34m[15]#011train-rmse:0.02399#011validation-rmse:0.04732\u001b[0m\n",
      "\u001b[34m[16]#011train-rmse:0.02367#011validation-rmse:0.04729\u001b[0m\n",
      "\u001b[34m[17]#011train-rmse:0.02357#011validation-rmse:0.04692\u001b[0m\n",
      "\u001b[34m[18]#011train-rmse:0.02347#011validation-rmse:0.04684\u001b[0m\n",
      "\u001b[34m[19]#011train-rmse:0.02318#011validation-rmse:0.04732\u001b[0m\n",
      "\u001b[34m[20]#011train-rmse:0.02287#011validation-rmse:0.04723\u001b[0m\n",
      "\u001b[34m[21]#011train-rmse:0.02268#011validation-rmse:0.04724\u001b[0m\n",
      "\u001b[34m[22]#011train-rmse:0.02248#011validation-rmse:0.04741\u001b[0m\n",
      "\u001b[34m[23]#011train-rmse:0.02226#011validation-rmse:0.04716\u001b[0m\n",
      "\u001b[34m[24]#011train-rmse:0.02207#011validation-rmse:0.04715\u001b[0m\n",
      "\u001b[34m[25]#011train-rmse:0.02182#011validation-rmse:0.04709\u001b[0m\n",
      "\u001b[34m[26]#011train-rmse:0.02175#011validation-rmse:0.04709\u001b[0m\n",
      "\u001b[34m[27]#011train-rmse:0.02158#011validation-rmse:0.04754\u001b[0m\n",
      "\u001b[34m[28]#011train-rmse:0.02143#011validation-rmse:0.04761\u001b[0m\n",
      "\u001b[34m[29]#011train-rmse:0.02120#011validation-rmse:0.04745\u001b[0m\n",
      "\u001b[34m[30]#011train-rmse:0.02114#011validation-rmse:0.04759\u001b[0m\n",
      "\u001b[34m[31]#011train-rmse:0.02100#011validation-rmse:0.04769\u001b[0m\n",
      "\u001b[34m[32]#011train-rmse:0.02078#011validation-rmse:0.04775\u001b[0m\n",
      "\u001b[34m[33]#011train-rmse:0.02069#011validation-rmse:0.04779\u001b[0m\n",
      "\u001b[34m[34]#011train-rmse:0.02050#011validation-rmse:0.04783\u001b[0m\n",
      "\u001b[34m[35]#011train-rmse:0.02041#011validation-rmse:0.04792\u001b[0m\n",
      "\u001b[34m[36]#011train-rmse:0.02028#011validation-rmse:0.04801\u001b[0m\n",
      "\u001b[34m[37]#011train-rmse:0.02006#011validation-rmse:0.04829\u001b[0m\n",
      "\u001b[34m[38]#011train-rmse:0.01984#011validation-rmse:0.04828\u001b[0m\n",
      "\u001b[34m[39]#011train-rmse:0.01964#011validation-rmse:0.04845\u001b[0m\n",
      "\u001b[34m[40]#011train-rmse:0.01952#011validation-rmse:0.04838\u001b[0m\n",
      "\u001b[34m[41]#011train-rmse:0.01928#011validation-rmse:0.04838\u001b[0m\n",
      "\u001b[34m[42]#011train-rmse:0.01918#011validation-rmse:0.04841\u001b[0m\n",
      "\u001b[34m[43]#011train-rmse:0.01917#011validation-rmse:0.04846\u001b[0m\n",
      "\u001b[34m[44]#011train-rmse:0.01903#011validation-rmse:0.04850\u001b[0m\n",
      "\u001b[34m[45]#011train-rmse:0.01898#011validation-rmse:0.04850\u001b[0m\n",
      "\u001b[34m[46]#011train-rmse:0.01876#011validation-rmse:0.04849\u001b[0m\n",
      "\u001b[34m[47]#011train-rmse:0.01866#011validation-rmse:0.04853\u001b[0m\n",
      "\u001b[34m[48]#011train-rmse:0.01863#011validation-rmse:0.04853\u001b[0m\n",
      "\u001b[34m[49]#011train-rmse:0.01862#011validation-rmse:0.04841\u001b[0m\n",
      "\n",
      "2024-02-02 03:37:26 Completed - Training job completed\n",
      "Training seconds: 87\n",
      "Billable seconds: 87\n"
     ]
    }
   ],
   "source": [
    "training_model.fit(inputs=data_channels, logs=True)"
   ]
  },
  {
   "cell_type": "code",
   "execution_count": 46,
   "id": "3df9a07d-55ac-4eaa-ab83-a9b8904dcf47",
   "metadata": {
    "tags": []
   },
   "outputs": [
    {
     "name": "stderr",
     "output_type": "stream",
     "text": [
      "INFO:sagemaker:Deleting endpoint configuration with name: sagemaker-xgboost-2024-01-29-06-33-12-725\n",
      "INFO:sagemaker:Deleting endpoint with name: sagemaker-xgboost-2024-01-29-06-33-12-725\n"
     ]
    }
   ],
   "source": [
    "#predictor.delete_endpoint()"
   ]
  }
 ],
 "metadata": {
  "availableInstances": [
   {
    "_defaultOrder": 0,
    "_isFastLaunch": true,
    "category": "General purpose",
    "gpuNum": 0,
    "hideHardwareSpecs": false,
    "memoryGiB": 4,
    "name": "ml.t3.medium",
    "vcpuNum": 2
   },
   {
    "_defaultOrder": 1,
    "_isFastLaunch": false,
    "category": "General purpose",
    "gpuNum": 0,
    "hideHardwareSpecs": false,
    "memoryGiB": 8,
    "name": "ml.t3.large",
    "vcpuNum": 2
   },
   {
    "_defaultOrder": 2,
    "_isFastLaunch": false,
    "category": "General purpose",
    "gpuNum": 0,
    "hideHardwareSpecs": false,
    "memoryGiB": 16,
    "name": "ml.t3.xlarge",
    "vcpuNum": 4
   },
   {
    "_defaultOrder": 3,
    "_isFastLaunch": false,
    "category": "General purpose",
    "gpuNum": 0,
    "hideHardwareSpecs": false,
    "memoryGiB": 32,
    "name": "ml.t3.2xlarge",
    "vcpuNum": 8
   },
   {
    "_defaultOrder": 4,
    "_isFastLaunch": true,
    "category": "General purpose",
    "gpuNum": 0,
    "hideHardwareSpecs": false,
    "memoryGiB": 8,
    "name": "ml.m5.large",
    "vcpuNum": 2
   },
   {
    "_defaultOrder": 5,
    "_isFastLaunch": false,
    "category": "General purpose",
    "gpuNum": 0,
    "hideHardwareSpecs": false,
    "memoryGiB": 16,
    "name": "ml.m5.xlarge",
    "vcpuNum": 4
   },
   {
    "_defaultOrder": 6,
    "_isFastLaunch": false,
    "category": "General purpose",
    "gpuNum": 0,
    "hideHardwareSpecs": false,
    "memoryGiB": 32,
    "name": "ml.m5.2xlarge",
    "vcpuNum": 8
   },
   {
    "_defaultOrder": 7,
    "_isFastLaunch": false,
    "category": "General purpose",
    "gpuNum": 0,
    "hideHardwareSpecs": false,
    "memoryGiB": 64,
    "name": "ml.m5.4xlarge",
    "vcpuNum": 16
   },
   {
    "_defaultOrder": 8,
    "_isFastLaunch": false,
    "category": "General purpose",
    "gpuNum": 0,
    "hideHardwareSpecs": false,
    "memoryGiB": 128,
    "name": "ml.m5.8xlarge",
    "vcpuNum": 32
   },
   {
    "_defaultOrder": 9,
    "_isFastLaunch": false,
    "category": "General purpose",
    "gpuNum": 0,
    "hideHardwareSpecs": false,
    "memoryGiB": 192,
    "name": "ml.m5.12xlarge",
    "vcpuNum": 48
   },
   {
    "_defaultOrder": 10,
    "_isFastLaunch": false,
    "category": "General purpose",
    "gpuNum": 0,
    "hideHardwareSpecs": false,
    "memoryGiB": 256,
    "name": "ml.m5.16xlarge",
    "vcpuNum": 64
   },
   {
    "_defaultOrder": 11,
    "_isFastLaunch": false,
    "category": "General purpose",
    "gpuNum": 0,
    "hideHardwareSpecs": false,
    "memoryGiB": 384,
    "name": "ml.m5.24xlarge",
    "vcpuNum": 96
   },
   {
    "_defaultOrder": 12,
    "_isFastLaunch": false,
    "category": "General purpose",
    "gpuNum": 0,
    "hideHardwareSpecs": false,
    "memoryGiB": 8,
    "name": "ml.m5d.large",
    "vcpuNum": 2
   },
   {
    "_defaultOrder": 13,
    "_isFastLaunch": false,
    "category": "General purpose",
    "gpuNum": 0,
    "hideHardwareSpecs": false,
    "memoryGiB": 16,
    "name": "ml.m5d.xlarge",
    "vcpuNum": 4
   },
   {
    "_defaultOrder": 14,
    "_isFastLaunch": false,
    "category": "General purpose",
    "gpuNum": 0,
    "hideHardwareSpecs": false,
    "memoryGiB": 32,
    "name": "ml.m5d.2xlarge",
    "vcpuNum": 8
   },
   {
    "_defaultOrder": 15,
    "_isFastLaunch": false,
    "category": "General purpose",
    "gpuNum": 0,
    "hideHardwareSpecs": false,
    "memoryGiB": 64,
    "name": "ml.m5d.4xlarge",
    "vcpuNum": 16
   },
   {
    "_defaultOrder": 16,
    "_isFastLaunch": false,
    "category": "General purpose",
    "gpuNum": 0,
    "hideHardwareSpecs": false,
    "memoryGiB": 128,
    "name": "ml.m5d.8xlarge",
    "vcpuNum": 32
   },
   {
    "_defaultOrder": 17,
    "_isFastLaunch": false,
    "category": "General purpose",
    "gpuNum": 0,
    "hideHardwareSpecs": false,
    "memoryGiB": 192,
    "name": "ml.m5d.12xlarge",
    "vcpuNum": 48
   },
   {
    "_defaultOrder": 18,
    "_isFastLaunch": false,
    "category": "General purpose",
    "gpuNum": 0,
    "hideHardwareSpecs": false,
    "memoryGiB": 256,
    "name": "ml.m5d.16xlarge",
    "vcpuNum": 64
   },
   {
    "_defaultOrder": 19,
    "_isFastLaunch": false,
    "category": "General purpose",
    "gpuNum": 0,
    "hideHardwareSpecs": false,
    "memoryGiB": 384,
    "name": "ml.m5d.24xlarge",
    "vcpuNum": 96
   },
   {
    "_defaultOrder": 20,
    "_isFastLaunch": false,
    "category": "General purpose",
    "gpuNum": 0,
    "hideHardwareSpecs": true,
    "memoryGiB": 0,
    "name": "ml.geospatial.interactive",
    "supportedImageNames": [
     "sagemaker-geospatial-v1-0"
    ],
    "vcpuNum": 0
   },
   {
    "_defaultOrder": 21,
    "_isFastLaunch": true,
    "category": "Compute optimized",
    "gpuNum": 0,
    "hideHardwareSpecs": false,
    "memoryGiB": 4,
    "name": "ml.c5.large",
    "vcpuNum": 2
   },
   {
    "_defaultOrder": 22,
    "_isFastLaunch": false,
    "category": "Compute optimized",
    "gpuNum": 0,
    "hideHardwareSpecs": false,
    "memoryGiB": 8,
    "name": "ml.c5.xlarge",
    "vcpuNum": 4
   },
   {
    "_defaultOrder": 23,
    "_isFastLaunch": false,
    "category": "Compute optimized",
    "gpuNum": 0,
    "hideHardwareSpecs": false,
    "memoryGiB": 16,
    "name": "ml.c5.2xlarge",
    "vcpuNum": 8
   },
   {
    "_defaultOrder": 24,
    "_isFastLaunch": false,
    "category": "Compute optimized",
    "gpuNum": 0,
    "hideHardwareSpecs": false,
    "memoryGiB": 32,
    "name": "ml.c5.4xlarge",
    "vcpuNum": 16
   },
   {
    "_defaultOrder": 25,
    "_isFastLaunch": false,
    "category": "Compute optimized",
    "gpuNum": 0,
    "hideHardwareSpecs": false,
    "memoryGiB": 72,
    "name": "ml.c5.9xlarge",
    "vcpuNum": 36
   },
   {
    "_defaultOrder": 26,
    "_isFastLaunch": false,
    "category": "Compute optimized",
    "gpuNum": 0,
    "hideHardwareSpecs": false,
    "memoryGiB": 96,
    "name": "ml.c5.12xlarge",
    "vcpuNum": 48
   },
   {
    "_defaultOrder": 27,
    "_isFastLaunch": false,
    "category": "Compute optimized",
    "gpuNum": 0,
    "hideHardwareSpecs": false,
    "memoryGiB": 144,
    "name": "ml.c5.18xlarge",
    "vcpuNum": 72
   },
   {
    "_defaultOrder": 28,
    "_isFastLaunch": false,
    "category": "Compute optimized",
    "gpuNum": 0,
    "hideHardwareSpecs": false,
    "memoryGiB": 192,
    "name": "ml.c5.24xlarge",
    "vcpuNum": 96
   },
   {
    "_defaultOrder": 29,
    "_isFastLaunch": true,
    "category": "Accelerated computing",
    "gpuNum": 1,
    "hideHardwareSpecs": false,
    "memoryGiB": 16,
    "name": "ml.g4dn.xlarge",
    "vcpuNum": 4
   },
   {
    "_defaultOrder": 30,
    "_isFastLaunch": false,
    "category": "Accelerated computing",
    "gpuNum": 1,
    "hideHardwareSpecs": false,
    "memoryGiB": 32,
    "name": "ml.g4dn.2xlarge",
    "vcpuNum": 8
   },
   {
    "_defaultOrder": 31,
    "_isFastLaunch": false,
    "category": "Accelerated computing",
    "gpuNum": 1,
    "hideHardwareSpecs": false,
    "memoryGiB": 64,
    "name": "ml.g4dn.4xlarge",
    "vcpuNum": 16
   },
   {
    "_defaultOrder": 32,
    "_isFastLaunch": false,
    "category": "Accelerated computing",
    "gpuNum": 1,
    "hideHardwareSpecs": false,
    "memoryGiB": 128,
    "name": "ml.g4dn.8xlarge",
    "vcpuNum": 32
   },
   {
    "_defaultOrder": 33,
    "_isFastLaunch": false,
    "category": "Accelerated computing",
    "gpuNum": 4,
    "hideHardwareSpecs": false,
    "memoryGiB": 192,
    "name": "ml.g4dn.12xlarge",
    "vcpuNum": 48
   },
   {
    "_defaultOrder": 34,
    "_isFastLaunch": false,
    "category": "Accelerated computing",
    "gpuNum": 1,
    "hideHardwareSpecs": false,
    "memoryGiB": 256,
    "name": "ml.g4dn.16xlarge",
    "vcpuNum": 64
   },
   {
    "_defaultOrder": 35,
    "_isFastLaunch": false,
    "category": "Accelerated computing",
    "gpuNum": 1,
    "hideHardwareSpecs": false,
    "memoryGiB": 61,
    "name": "ml.p3.2xlarge",
    "vcpuNum": 8
   },
   {
    "_defaultOrder": 36,
    "_isFastLaunch": false,
    "category": "Accelerated computing",
    "gpuNum": 4,
    "hideHardwareSpecs": false,
    "memoryGiB": 244,
    "name": "ml.p3.8xlarge",
    "vcpuNum": 32
   },
   {
    "_defaultOrder": 37,
    "_isFastLaunch": false,
    "category": "Accelerated computing",
    "gpuNum": 8,
    "hideHardwareSpecs": false,
    "memoryGiB": 488,
    "name": "ml.p3.16xlarge",
    "vcpuNum": 64
   },
   {
    "_defaultOrder": 38,
    "_isFastLaunch": false,
    "category": "Accelerated computing",
    "gpuNum": 8,
    "hideHardwareSpecs": false,
    "memoryGiB": 768,
    "name": "ml.p3dn.24xlarge",
    "vcpuNum": 96
   },
   {
    "_defaultOrder": 39,
    "_isFastLaunch": false,
    "category": "Memory Optimized",
    "gpuNum": 0,
    "hideHardwareSpecs": false,
    "memoryGiB": 16,
    "name": "ml.r5.large",
    "vcpuNum": 2
   },
   {
    "_defaultOrder": 40,
    "_isFastLaunch": false,
    "category": "Memory Optimized",
    "gpuNum": 0,
    "hideHardwareSpecs": false,
    "memoryGiB": 32,
    "name": "ml.r5.xlarge",
    "vcpuNum": 4
   },
   {
    "_defaultOrder": 41,
    "_isFastLaunch": false,
    "category": "Memory Optimized",
    "gpuNum": 0,
    "hideHardwareSpecs": false,
    "memoryGiB": 64,
    "name": "ml.r5.2xlarge",
    "vcpuNum": 8
   },
   {
    "_defaultOrder": 42,
    "_isFastLaunch": false,
    "category": "Memory Optimized",
    "gpuNum": 0,
    "hideHardwareSpecs": false,
    "memoryGiB": 128,
    "name": "ml.r5.4xlarge",
    "vcpuNum": 16
   },
   {
    "_defaultOrder": 43,
    "_isFastLaunch": false,
    "category": "Memory Optimized",
    "gpuNum": 0,
    "hideHardwareSpecs": false,
    "memoryGiB": 256,
    "name": "ml.r5.8xlarge",
    "vcpuNum": 32
   },
   {
    "_defaultOrder": 44,
    "_isFastLaunch": false,
    "category": "Memory Optimized",
    "gpuNum": 0,
    "hideHardwareSpecs": false,
    "memoryGiB": 384,
    "name": "ml.r5.12xlarge",
    "vcpuNum": 48
   },
   {
    "_defaultOrder": 45,
    "_isFastLaunch": false,
    "category": "Memory Optimized",
    "gpuNum": 0,
    "hideHardwareSpecs": false,
    "memoryGiB": 512,
    "name": "ml.r5.16xlarge",
    "vcpuNum": 64
   },
   {
    "_defaultOrder": 46,
    "_isFastLaunch": false,
    "category": "Memory Optimized",
    "gpuNum": 0,
    "hideHardwareSpecs": false,
    "memoryGiB": 768,
    "name": "ml.r5.24xlarge",
    "vcpuNum": 96
   },
   {
    "_defaultOrder": 47,
    "_isFastLaunch": false,
    "category": "Accelerated computing",
    "gpuNum": 1,
    "hideHardwareSpecs": false,
    "memoryGiB": 16,
    "name": "ml.g5.xlarge",
    "vcpuNum": 4
   },
   {
    "_defaultOrder": 48,
    "_isFastLaunch": false,
    "category": "Accelerated computing",
    "gpuNum": 1,
    "hideHardwareSpecs": false,
    "memoryGiB": 32,
    "name": "ml.g5.2xlarge",
    "vcpuNum": 8
   },
   {
    "_defaultOrder": 49,
    "_isFastLaunch": false,
    "category": "Accelerated computing",
    "gpuNum": 1,
    "hideHardwareSpecs": false,
    "memoryGiB": 64,
    "name": "ml.g5.4xlarge",
    "vcpuNum": 16
   },
   {
    "_defaultOrder": 50,
    "_isFastLaunch": false,
    "category": "Accelerated computing",
    "gpuNum": 1,
    "hideHardwareSpecs": false,
    "memoryGiB": 128,
    "name": "ml.g5.8xlarge",
    "vcpuNum": 32
   },
   {
    "_defaultOrder": 51,
    "_isFastLaunch": false,
    "category": "Accelerated computing",
    "gpuNum": 1,
    "hideHardwareSpecs": false,
    "memoryGiB": 256,
    "name": "ml.g5.16xlarge",
    "vcpuNum": 64
   },
   {
    "_defaultOrder": 52,
    "_isFastLaunch": false,
    "category": "Accelerated computing",
    "gpuNum": 4,
    "hideHardwareSpecs": false,
    "memoryGiB": 192,
    "name": "ml.g5.12xlarge",
    "vcpuNum": 48
   },
   {
    "_defaultOrder": 53,
    "_isFastLaunch": false,
    "category": "Accelerated computing",
    "gpuNum": 4,
    "hideHardwareSpecs": false,
    "memoryGiB": 384,
    "name": "ml.g5.24xlarge",
    "vcpuNum": 96
   },
   {
    "_defaultOrder": 54,
    "_isFastLaunch": false,
    "category": "Accelerated computing",
    "gpuNum": 8,
    "hideHardwareSpecs": false,
    "memoryGiB": 768,
    "name": "ml.g5.48xlarge",
    "vcpuNum": 192
   },
   {
    "_defaultOrder": 55,
    "_isFastLaunch": false,
    "category": "Accelerated computing",
    "gpuNum": 8,
    "hideHardwareSpecs": false,
    "memoryGiB": 1152,
    "name": "ml.p4d.24xlarge",
    "vcpuNum": 96
   },
   {
    "_defaultOrder": 56,
    "_isFastLaunch": false,
    "category": "Accelerated computing",
    "gpuNum": 8,
    "hideHardwareSpecs": false,
    "memoryGiB": 1152,
    "name": "ml.p4de.24xlarge",
    "vcpuNum": 96
   },
   {
    "_defaultOrder": 57,
    "_isFastLaunch": false,
    "category": "Accelerated computing",
    "gpuNum": 0,
    "hideHardwareSpecs": false,
    "memoryGiB": 32,
    "name": "ml.trn1.2xlarge",
    "vcpuNum": 8
   },
   {
    "_defaultOrder": 58,
    "_isFastLaunch": false,
    "category": "Accelerated computing",
    "gpuNum": 0,
    "hideHardwareSpecs": false,
    "memoryGiB": 512,
    "name": "ml.trn1.32xlarge",
    "vcpuNum": 128
   },
   {
    "_defaultOrder": 59,
    "_isFastLaunch": false,
    "category": "Accelerated computing",
    "gpuNum": 0,
    "hideHardwareSpecs": false,
    "memoryGiB": 512,
    "name": "ml.trn1n.32xlarge",
    "vcpuNum": 128
   }
  ],
  "instance_type": "ml.t3.medium",
  "kernelspec": {
   "display_name": "Python 3 (ipykernel)",
   "language": "python",
   "name": "python3"
  },
  "language_info": {
   "codemirror_mode": {
    "name": "ipython",
    "version": 3
   },
   "file_extension": ".py",
   "mimetype": "text/x-python",
   "name": "python",
   "nbconvert_exporter": "python",
   "pygments_lexer": "ipython3",
   "version": "3.11.5"
  }
 },
 "nbformat": 4,
 "nbformat_minor": 5
}
